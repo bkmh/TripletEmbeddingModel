{
 "cells": [
  {
   "cell_type": "markdown",
   "metadata": {},
   "source": [
    "# Extract Subject-Verb-Object (S, V, O) Triplets"
   ]
  },
  {
   "cell_type": "code",
   "execution_count": 1,
   "metadata": {
    "ExecuteTime": {
     "end_time": "2018-07-24T04:50:16.328991Z",
     "start_time": "2018-07-24T04:50:16.022809Z"
    }
   },
   "outputs": [],
   "source": [
    "import pandas as pd\n",
    "import numpy as np\n",
    "import ast\n",
    "import os\n",
    "# change your java path and add it as an environment variable\n",
    "java_path = \"usr/bin/java/java.exe\"\n",
    "os.environ['JAVAHOME'] = java_path"
   ]
  },
  {
   "cell_type": "markdown",
   "metadata": {},
   "source": [
    "## Load python wrapper for Stanford CoreNLP\n",
    "\n",
    "- StanfordNLP homepage: https://stanfordnlp.github.io/CoreNLP/\n",
    "\n",
    "- You can find OpenIE options from here: https://stanfordnlp.github.io/CoreNLP/openie.html#description  "
   ]
  },
  {
   "cell_type": "code",
   "execution_count": 2,
   "metadata": {
    "ExecuteTime": {
     "end_time": "2018-07-24T04:50:17.657895Z",
     "start_time": "2018-07-24T04:50:16.330791Z"
    }
   },
   "outputs": [],
   "source": [
    "from stanfordcorenlp import StanfordCoreNLP\n",
    "nlp = StanfordCoreNLP('/home/junhyuki/DLproject/ExternalLib/stanford-corenlp-full-2018-02-27',\n",
    "                      memory='8g')\n",
    "# We will use OpenIE (Open Information Extraction)\n",
    "props={'annotators': 'tokenize, ssplit, pos, lemma, depparse, natlog, openie',\n",
    "       'pipelineLanguage':'en',\n",
    "       'outputFormat':'json',                        # one of {json, xml, text}\n",
    "       'openie.format': 'default',    # One of {reverb, ollie, default, qa_srl}\n",
    "       'openie.triple.strict': 'true',\n",
    "       'openie.affinity_probability_cap': '1',\n",
    "       'openie.max_entailments_per_clause': '1000',   # default = 1000\n",
    "       }"
   ]
  },
  {
   "cell_type": "code",
   "execution_count": 3,
   "metadata": {
    "ExecuteTime": {
     "end_time": "2018-07-24T04:50:17.676467Z",
     "start_time": "2018-07-24T04:50:17.661742Z"
    }
   },
   "outputs": [],
   "source": [
    "dat_path = '/home/junhyuki/DLproject/DAT'\n",
    "test = pd.read_csv(dat_path + '/1-DailyNews/cleaned_news_2012.csv', nrows=20)"
   ]
  },
  {
   "cell_type": "markdown",
   "metadata": {},
   "source": [
    "## option test: openie.triple.strict = True\n",
    "If true, extract triples only if they consume the entire fragment. This is useful for ensuring that only logically warranted triples are extracted, but puts more burden on the entailment system to find minimal phrases (see -max_entailments_per_clause)."
   ]
  },
  {
   "cell_type": "code",
   "execution_count": 4,
   "metadata": {
    "ExecuteTime": {
     "end_time": "2018-07-24T04:50:31.373186Z",
     "start_time": "2018-07-24T04:50:17.679473Z"
    }
   },
   "outputs": [
    {
     "name": "stdout",
     "output_type": "stream",
     "text": [
      "------------------------------------------------------------------------\n",
      "Target Sentence: Oakland Raiders fan falls from bleachers after game\n",
      "('Oakland Raiders fan', 'falls after', 'game')\n",
      "('Oakland Raiders fan', 'falls from', 'bleachers')\n",
      "------------------------------------------------------------------------\n",
      "Target Sentence: Blues' Cole suspended for three games\n",
      "(\"Blues ' Cole\", 'suspended for', 'three games')\n",
      "------------------------------------------------------------------------\n",
      "Target Sentence: Kostitsyn's hat-trick helps Predators douse Flames\n",
      "('Kostitsyn', 'has', 'hat-trick')\n",
      "('Predators', 'douse', 'Flames')\n",
      "------------------------------------------------------------------------\n",
      "Target Sentence: Broncos clinch AFC West, snap playoff drought\n",
      "('Broncos', 'clinch', 'AFC West')\n",
      "------------------------------------------------------------------------\n",
      "Target Sentence: Pope Benedict XVI to visit Cuba March 26-28\n",
      "------------------------------------------------------------------------\n",
      "Target Sentence: China dissident-lawyer Gao jailed in far west\n",
      "('China dissident-lawyer Gao', 'jailed in', 'far west')\n",
      "('China dissident-lawyer Gao', 'jailed in', 'west')\n",
      "('China Gao', 'jailed in', 'far west')\n",
      "('China Gao', 'jailed in', 'west')\n",
      "------------------------------------------------------------------------\n",
      "Target Sentence: Govt appoints 3-month interim head for India's NMDC\n",
      "('Govt', 'appoints', \"interim head for India 's NMDC\")\n",
      "('India', 'for', 'NMDC')\n",
      "('Govt', 'appoints', \"head for India 's NMDC\")\n",
      "('Govt', 'appoints', \"3-month head for India 's NMDC\")\n",
      "('Govt', 'appoints', \"3-month interim head for India 's NMDC\")\n",
      "('Govt', 'appoints', '3-month interim head')\n",
      "('Govt', 'appoints', 'head')\n",
      "('Govt', 'appoints', 'interim head')\n",
      "('Govt', 'appoints', '3-month head')\n",
      "------------------------------------------------------------------------\n",
      "Target Sentence: Ravens earn AFC North title and first-round bye\n",
      "('Ravens', 'earn', 'first-round bye')\n",
      "('Ravens', 'earn', 'bye')\n",
      "('Ravens', 'earn', 'AFC North title')\n",
      "------------------------------------------------------------------------\n",
      "Target Sentence: Colombian police kill leader of powerful drug gang\n",
      "('police', 'kill', 'leader of drug gang')\n",
      "('Colombian police', 'kill', 'leader of drug gang')\n",
      "('Colombian police', 'kill', 'leader of powerful drug gang')\n",
      "('police', 'kill', 'leader of powerful drug gang')\n",
      "('police', 'kill', 'leader')\n",
      "('Colombian police', 'kill', 'leader')\n",
      "------------------------------------------------------------------------\n",
      "Target Sentence: S. Korea manufacturing shrinks most in 3 years\n",
      "('S. Korea', 'shrinks in', '3 years')\n",
      "('S. Korea', 'shrinks in', 'most 3 years')\n",
      "('S. Korea', 'manufacturing shrinks in', 'most 3 years')\n",
      "('S. Korea', 'manufacturing shrinks in', '3 years')\n",
      "------------------------------------------------------------------------\n",
      "Target Sentence: India lets foreign individuals invest in stock\n",
      "('individuals', 'invest in', 'stock')\n",
      "('foreign individuals', 'invest in', 'stock')\n",
      "------------------------------------------------------------------------\n",
      "Target Sentence: Freeport Indonesia union says delays return to work\n",
      "------------------------------------------------------------------------\n",
      "Target Sentence: Freeport Indonesia union says delays return to work\n",
      "------------------------------------------------------------------------\n",
      "Target Sentence: Philippine stock exchange extends trading hours\n",
      "('Philippine stock exchange', 'extends', 'trading hours')\n",
      "('stock exchange', 'extends', 'trading hours')\n",
      "------------------------------------------------------------------------\n",
      "Target Sentence: Seoul shares inch up, tech shares lead\n",
      "------------------------------------------------------------------------\n",
      "Target Sentence: Hyundai Heavy targets 20 percent order growth to $31 billion\n",
      "('Hyundai Heavy', 'targets to', '$ 31 billion')\n",
      "('Hyundai Heavy', 'targets', '20 percent order growth')\n",
      "------------------------------------------------------------------------\n",
      "Target Sentence: Proud 49ers secure bye with win over Rams\n",
      "------------------------------------------------------------------------\n",
      "Target Sentence: Hyundai Heavy targets 20 pct order growth in 2012 to $31 bln\n",
      "('Hyundai Heavy', 'targets to', '$ 31 bln')\n",
      "('Hyundai Heavy', 'targets in', '2012')\n",
      "('Hyundai Heavy', 'targets', '20 pct order growth')\n",
      "('Hyundai Heavy', 'targets to', 'bln')\n",
      "------------------------------------------------------------------------\n",
      "Target Sentence: Market factors to watch - Jan 2\n",
      "------------------------------------------------------------------------\n",
      "Target Sentence: NASA probes reach moon for gravity-mapping mission\n",
      "('NASA probes', 'reach moon for', 'gravity-mapping mission')\n",
      "('NASA probes', 'reach', 'moon')\n",
      "('NASA probes', 'reach moon for', 'mission')\n",
      "('NASA probes', 'reach for', 'gravity-mapping mission')\n",
      "('NASA probes', 'reach for', 'mission')\n"
     ]
    }
   ],
   "source": [
    "for i in range(len(test)):\n",
    "    text = test['clean_title'].iloc[i]\n",
    "    print('------------------------------------------------------------------------')\n",
    "    print('Target Sentence: ' + text)\n",
    "    openie = nlp.annotate(text, properties=props)\n",
    "    openie = ast.literal_eval(openie)              # convert str to dict\n",
    "    for j in range(len(openie[\"sentences\"][0][\"openie\"])):\n",
    "        svo = openie[\"sentences\"][0][\"openie\"][j]\n",
    "        print((svo['subject'], svo['relation'], svo['object']))"
   ]
  },
  {
   "cell_type": "markdown",
   "metadata": {},
   "source": [
    "## option test: openie.splitter.disable = True\n",
    "\n",
    "Don’t split clauses at all, and only extract relations centered around the root verb.\n",
    "\n",
    "> cons: Becuase of strong constraints, triplets often cannot be extracted from the target sentence"
   ]
  },
  {
   "cell_type": "code",
   "execution_count": 5,
   "metadata": {
    "ExecuteTime": {
     "end_time": "2018-07-24T04:50:32.587576Z",
     "start_time": "2018-07-24T04:50:31.375818Z"
    }
   },
   "outputs": [],
   "source": [
    "from stanfordcorenlp import StanfordCoreNLP\n",
    "nlp = StanfordCoreNLP('/home/junhyuki/DLproject/ExternalLib/stanford-corenlp-full-2018-02-27',\n",
    "                      memory='8g')\n",
    "# We will use OpenIE (Open Information Extraction)\n",
    "props={'annotators': 'tokenize, ssplit, pos, lemma, depparse, natlog, openie',\n",
    "       'pipelineLanguage':'en',\n",
    "       'outputFormat':'json',                        # one of {json, xml, text}\n",
    "       'openie.format': 'default',    # One of {reverb, ollie, default, qa_srl}\n",
    "       'openie.triple.strict': 'true',\n",
    "       'openie.affinity_probability_cap': '1',\n",
    "       'openie.max_entailments_per_clause': '1000',   # default = 1000\n",
    "       'openie.splitter.disable': 'true'\n",
    "       }"
   ]
  },
  {
   "cell_type": "code",
   "execution_count": 6,
   "metadata": {
    "ExecuteTime": {
     "end_time": "2018-07-24T04:50:45.857477Z",
     "start_time": "2018-07-24T04:50:32.592363Z"
    }
   },
   "outputs": [
    {
     "name": "stdout",
     "output_type": "stream",
     "text": [
      "------------------------------------------------------------------------\n",
      "Target Sentence: Oakland Raiders fan falls from bleachers after game\n",
      "------------------------------------------------------------------------\n",
      "Target Sentence: Blues' Cole suspended for three games\n",
      "------------------------------------------------------------------------\n",
      "Target Sentence: Kostitsyn's hat-trick helps Predators douse Flames\n",
      "('Kostitsyn', 'has', 'hat-trick')\n",
      "------------------------------------------------------------------------\n",
      "Target Sentence: Broncos clinch AFC West, snap playoff drought\n",
      "------------------------------------------------------------------------\n",
      "Target Sentence: Pope Benedict XVI to visit Cuba March 26-28\n",
      "------------------------------------------------------------------------\n",
      "Target Sentence: China dissident-lawyer Gao jailed in far west\n",
      "------------------------------------------------------------------------\n",
      "Target Sentence: Govt appoints 3-month interim head for India's NMDC\n",
      "('India', 'for', 'NMDC')\n",
      "------------------------------------------------------------------------\n",
      "Target Sentence: Ravens earn AFC North title and first-round bye\n",
      "------------------------------------------------------------------------\n",
      "Target Sentence: Colombian police kill leader of powerful drug gang\n",
      "------------------------------------------------------------------------\n",
      "Target Sentence: S. Korea manufacturing shrinks most in 3 years\n",
      "------------------------------------------------------------------------\n",
      "Target Sentence: India lets foreign individuals invest in stock\n",
      "------------------------------------------------------------------------\n",
      "Target Sentence: Freeport Indonesia union says delays return to work\n",
      "------------------------------------------------------------------------\n",
      "Target Sentence: Freeport Indonesia union says delays return to work\n",
      "------------------------------------------------------------------------\n",
      "Target Sentence: Philippine stock exchange extends trading hours\n",
      "------------------------------------------------------------------------\n",
      "Target Sentence: Seoul shares inch up, tech shares lead\n",
      "------------------------------------------------------------------------\n",
      "Target Sentence: Hyundai Heavy targets 20 percent order growth to $31 billion\n",
      "------------------------------------------------------------------------\n",
      "Target Sentence: Proud 49ers secure bye with win over Rams\n",
      "------------------------------------------------------------------------\n",
      "Target Sentence: Hyundai Heavy targets 20 pct order growth in 2012 to $31 bln\n",
      "------------------------------------------------------------------------\n",
      "Target Sentence: Market factors to watch - Jan 2\n",
      "------------------------------------------------------------------------\n",
      "Target Sentence: NASA probes reach moon for gravity-mapping mission\n"
     ]
    }
   ],
   "source": [
    "for i in range(len(test)):\n",
    "    text = test['clean_title'].iloc[i]\n",
    "    print('------------------------------------------------------------------------')\n",
    "    print('Target Sentence: ' + text)\n",
    "    openie = nlp.annotate(text, properties=props)\n",
    "    openie = ast.literal_eval(openie)              # convert str to dict\n",
    "    for j in range(len(openie[\"sentences\"][0][\"openie\"])):\n",
    "        svo = openie[\"sentences\"][0][\"openie\"][j]\n",
    "        print((svo['subject'], svo['relation'], svo['object']))"
   ]
  },
  {
   "cell_type": "markdown",
   "metadata": {},
   "source": [
    "## Extract SVO by using 'multiprocessing'\n",
    "\n",
    "I decided to use options below\n",
    "```python\n",
    "props={'annotators': 'tokenize, ssplit, pos, lemma, depparse, natlog, openie',\n",
    "       'pipelineLanguage':'en',\n",
    "       'outputFormat':'json',                        # one of {json, xml, text}\n",
    "       'openie.format': 'default',    # One of {reverb, ollie, default, qa_srl}\n",
    "       'openie.triple.strict': 'true',\n",
    "       'openie.affinity_probability_cap': '1',\n",
    "       'openie.max_entailments_per_clause': '1000',   # default = 1000\n",
    "       }\n",
    "```\n",
    "\n",
    "And for the purpose of high speed, I decided to use `multiprocessing` library in python.\n",
    "\n",
    "> Detailed Code can be found from **`ExtractSVO_multi.py`**!"
   ]
  },
  {
   "cell_type": "code",
   "execution_count": null,
   "metadata": {
    "ExecuteTime": {
     "start_time": "2018-07-26T01:35:22.480Z"
    }
   },
   "outputs": [
    {
     "name": "stdout",
     "output_type": "stream",
     "text": [
      "# of Logical Processors : 20\n",
      "Processing \"2015\" news data ...\n",
      "original dataframe rows: 794284 -> after delete: 794284\n",
      "loading data & position index >>> putting them into the queue\n",
      "10000 th (S,V,O) extracted / 18.828808693091073 Minutes\n",
      "20000 th (S,V,O) extracted / 36.84289424022039 Minutes\n",
      "30000 th (S,V,O) extracted / 54.63262990315755 Minutes\n",
      "40000 th (S,V,O) extracted / 72.84746944506963 Minutes\n",
      "50000 th (S,V,O) extracted / 91.55406383275985 Minutes\n",
      "60000 th (S,V,O) extracted / 111.03648264010748 Minutes\n",
      "70000 th (S,V,O) extracted / 130.90460683902106 Minutes\n",
      "80000 th (S,V,O) extracted / 151.10771512190502 Minutes\n",
      "90000 th (S,V,O) extracted / 171.176607020696 Minutes\n",
      "100000 th (S,V,O) extracted / 191.80335882902145 Minutes\n",
      "110000 th (S,V,O) extracted / 213.33673591216404 Minutes\n",
      "120000 th (S,V,O) extracted / 235.255088977019 Minutes\n",
      "130000 th (S,V,O) extracted / 257.0998281637828 Minutes\n",
      "140000 th (S,V,O) extracted / 279.48598434527713 Minutes\n",
      "150000 th (S,V,O) extracted / 302.2639316836993 Minutes\n",
      "160000 th (S,V,O) extracted / 326.51479399204254 Minutes\n",
      "170000 th (S,V,O) extracted / 351.73424778381985 Minutes\n",
      "180000 th (S,V,O) extracted / 377.26060106356937 Minutes\n",
      "190000 th (S,V,O) extracted / 403.5804854194323 Minutes\n",
      "200000 th (S,V,O) extracted / 430.13821452061336 Minutes\n",
      "210000 th (S,V,O) extracted / 455.8142856836319 Minutes\n",
      "220000 th (S,V,O) extracted / 482.0648241043091 Minutes\n",
      "230000 th (S,V,O) extracted / 508.45113657315574 Minutes\n",
      "240000 th (S,V,O) extracted / 536.0931083599727 Minutes\n",
      "250000 th (S,V,O) extracted / 565.0870360453923 Minutes\n",
      "260000 th (S,V,O) extracted / 594.69393389225 Minutes\n",
      "270000 th (S,V,O) extracted / 624.8840013186137 Minutes\n",
      "280000 th (S,V,O) extracted / 654.6962965011596 Minutes\n",
      "290000 th (S,V,O) extracted / 685.1713871876399 Minutes\n",
      "300000 th (S,V,O) extracted / 715.3651935776074 Minutes\n",
      "310000 th (S,V,O) extracted / 746.4022952079773 Minutes\n",
      "320000 th (S,V,O) extracted / 776.918600221475 Minutes\n",
      "330000 th (S,V,O) extracted / 808.1205907106399 Minutes\n",
      "340000 th (S,V,O) extracted / 838.8831104278564 Minutes\n",
      "350000 th (S,V,O) extracted / 870.0139616290728 Minutes\n",
      "360000 th (S,V,O) extracted / 902.2723195354143 Minutes\n",
      "370000 th (S,V,O) extracted / 934.9574613809585 Minutes\n",
      "380000 th (S,V,O) extracted / 967.8531432191531 Minutes\n",
      "390000 th (S,V,O) extracted / 1000.9798411925634 Minutes\n",
      "400000 th (S,V,O) extracted / 1035.0590795914331 Minutes\n",
      "410000 th (S,V,O) extracted / 1069.04281818072 Minutes\n",
      "420000 th (S,V,O) extracted / 1103.4834996422132 Minutes\n",
      "430000 th (S,V,O) extracted / 1138.4416248281798 Minutes\n",
      "440000 th (S,V,O) extracted / 1173.2627716501554 Minutes\n",
      "450000 th (S,V,O) extracted / 1209.3715825080872 Minutes\n",
      "460000 th (S,V,O) extracted / 1245.7927139401436 Minutes\n",
      "470000 th (S,V,O) extracted / 1282.2082728743553 Minutes\n",
      "480000 th (S,V,O) extracted / 1319.4838909467062 Minutes\n",
      "490000 th (S,V,O) extracted / 1357.1179539322852 Minutes\n",
      "500000 th (S,V,O) extracted / 1395.1087798953056 Minutes\n",
      "510000 th (S,V,O) extracted / 1433.312269492944 Minutes\n",
      "520000 th (S,V,O) extracted / 1470.3538077910741 Minutes\n",
      "530000 th (S,V,O) extracted / 1509.6282056291898 Minutes\n",
      "540000 th (S,V,O) extracted / 1549.4957706530888 Minutes\n",
      "550000 th (S,V,O) extracted / 1589.6924426754315 Minutes\n",
      "560000 th (S,V,O) extracted / 1630.2532578547796 Minutes\n",
      "570000 th (S,V,O) extracted / 1670.8309904972712 Minutes\n",
      "580000 th (S,V,O) extracted / 1711.820392827193 Minutes\n",
      "590000 th (S,V,O) extracted / 1753.5871972958246 Minutes\n",
      "600000 th (S,V,O) extracted / 1795.8405937194825 Minutes\n",
      "610000 th (S,V,O) extracted / 1838.2889897942543 Minutes\n",
      "620000 th (S,V,O) extracted / 1879.1117184122404 Minutes\n",
      "630000 th (S,V,O) extracted / 1922.80042287906 Minutes\n",
      "640000 th (S,V,O) extracted / 1966.371092092991 Minutes\n",
      "650000 th (S,V,O) extracted / 2010.5135599215826 Minutes\n",
      "660000 th (S,V,O) extracted / 2054.8952437639236 Minutes\n",
      "670000 th (S,V,O) extracted / 2102.075482606888 Minutes\n",
      "680000 th (S,V,O) extracted / 2147.162141962846 Minutes\n",
      "690000 th (S,V,O) extracted / 2193.447886240482 Minutes\n",
      "700000 th (S,V,O) extracted / 2241.2609693686168 Minutes\n",
      "710000 th (S,V,O) extracted / 2290.376138238112 Minutes\n",
      "720000 th (S,V,O) extracted / 2338.6143876632054 Minutes\n",
      "730000 th (S,V,O) extracted / 2387.652090160052 Minutes\n",
      "740000 th (S,V,O) extracted / 2435.1627005696296 Minutes\n",
      "750000 th (S,V,O) extracted / 2483.3295151988664 Minutes\n",
      "760000 th (S,V,O) extracted / 2531.148464477062 Minutes\n",
      "770000 th (S,V,O) extracted / 2580.0266227960587 Minutes\n",
      "780000 th (S,V,O) extracted / 2629.304157702128 Minutes\n",
      "790000 th (S,V,O) extracted / 2678.8195011814437 Minutes\n",
      "original dataframe rows: 794284 -> after delete: 470668\n",
      "                                       connected_url  \\\n",
      "0  http://www.reuters.com/article/2015/01/01/us-u...   \n",
      "1  http://www.reuters.com/article/2015/01/01/indi...   \n",
      "2  http://www.reuters.com/article/2015/01/01/idUS...   \n",
      "3  http://www.reuters.com/article/2015/01/01/chin...   \n",
      "4  http://www.reuters.com/article/2015/01/01/us-u...   \n",
      "\n",
      "                                            keywords  timestamp  \\\n",
      "0  Bobby Jindal;David Duke;Gilda Reed;John Boehne...   20150101   \n",
      "1  INDIA;CENBANK/REFINANCE (TABLE;URGENT);Banking...   20150101   \n",
      "2                                                NaN   20150101   \n",
      "3  China;United States;CHINA;FREIGHT/;Commodities...   20150101   \n",
      "4  John Meffert;US;USA;WEATHER;Highways and Rail ...   20150101   \n",
      "\n",
      "                                         clean_title location  \\\n",
      "0  Democrat tipped blogger about Republican lawma...      NaN   \n",
      "1  Indian banks' refinancing with RBI rises to 98...      NaN   \n",
      "2  The 218-Second 2015 TAIPEI 101 New Year Firewo...      NaN   \n",
      "3  China approves three new foreign courier firms...      NaN   \n",
      "4  Deadly winter storms batter California, chill ...      NaN   \n",
      "\n",
      "                             subject      verb  \\\n",
      "0                           Democrat    tipped   \n",
      "1                banks ' refinancing  rises to   \n",
      "2  TAIPEI 101 New Year Firework Show  Featured   \n",
      "3                              China  approves   \n",
      "4               Deadly winter storms    batter   \n",
      "\n",
      "                                              object  \n",
      "0  blogger about Republican lawmaker meeting with...  \n",
      "1                                   98.17 bln rupees  \n",
      "2                                        iSee Taiwan  \n",
      "3                            three new courier firms  \n",
      "4                              chill New Year 's Eve  \n",
      "final shape : (470668, 8)\n",
      "Completed\n",
      "Processing \"2016\" news data ...\n",
      "original dataframe rows: 360290 -> after delete: 360290\n",
      "loading data & position index >>> putting them into the queue\n",
      "10000 th (S,V,O) extracted / 8.625083128611246 Minutes\n",
      "20000 th (S,V,O) extracted / 17.06750063498815 Minutes\n",
      "30000 th (S,V,O) extracted / 25.70459887186686 Minutes\n",
      "40000 th (S,V,O) extracted / 34.54608730077744 Minutes\n",
      "50000 th (S,V,O) extracted / 43.69351097742717 Minutes\n",
      "60000 th (S,V,O) extracted / 53.06930627822876 Minutes\n",
      "70000 th (S,V,O) extracted / 62.81278571287791 Minutes\n",
      "80000 th (S,V,O) extracted / 72.70804777940114 Minutes\n",
      "90000 th (S,V,O) extracted / 82.59290290276209 Minutes\n",
      "100000 th (S,V,O) extracted / 92.80786336660385 Minutes\n",
      "110000 th (S,V,O) extracted / 103.49554703632991 Minutes\n",
      "120000 th (S,V,O) extracted / 114.11046212514242 Minutes\n",
      "130000 th (S,V,O) extracted / 125.46279835303625 Minutes\n",
      "140000 th (S,V,O) extracted / 137.23583861192068 Minutes\n",
      "150000 th (S,V,O) extracted / 149.39479558467866 Minutes\n",
      "160000 th (S,V,O) extracted / 162.04415280421574 Minutes\n",
      "170000 th (S,V,O) extracted / 175.06557017564774 Minutes\n",
      "180000 th (S,V,O) extracted / 192.3308861017227 Minutes\n",
      "190000 th (S,V,O) extracted / 211.77982987562817 Minutes\n",
      "200000 th (S,V,O) extracted / 231.59486284255982 Minutes\n",
      "210000 th (S,V,O) extracted / 251.84053101936976 Minutes\n",
      "220000 th (S,V,O) extracted / 272.45913083950677 Minutes\n",
      "230000 th (S,V,O) extracted / 293.67617190678914 Minutes\n",
      "240000 th (S,V,O) extracted / 315.2988333026568 Minutes\n"
     ]
    }
   ],
   "source": [
    "exec(open(\"/home/junhyuki/DLproject/PSC/2-ExtractSVO/ExtractSVO_multi.py\").read())"
   ]
  }
 ],
 "metadata": {
  "kernelspec": {
   "display_name": "Python 3",
   "language": "python",
   "name": "python3"
  },
  "language_info": {
   "codemirror_mode": {
    "name": "ipython",
    "version": 3
   },
   "file_extension": ".py",
   "mimetype": "text/x-python",
   "name": "python",
   "nbconvert_exporter": "python",
   "pygments_lexer": "ipython3",
   "version": "3.5.2"
  }
 },
 "nbformat": 4,
 "nbformat_minor": 2
}
